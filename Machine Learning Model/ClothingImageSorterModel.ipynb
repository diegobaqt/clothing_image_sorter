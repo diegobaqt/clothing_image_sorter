{
  "nbformat": 4,
  "nbformat_minor": 0,
  "metadata": {
    "colab": {
      "name": "ClothingImageSorterModel.ipynb",
      "version": "0.3.2",
      "provenance": []
    },
    "kernelspec": {
      "display_name": "ocr-venv",
      "language": "python",
      "name": "ocr-venv"
    }
  },
  "cells": [
    {
      "metadata": {
        "id": "Ep-RliniI2SB",
        "colab_type": "code",
        "colab": {}
      },
      "cell_type": "code",
      "source": [
        "import numpy as np\n",
        "import cv2\n",
        "import os\n",
        "import json\n",
        "from sklearn.preprocessing import OneHotEncoder\n",
        "from sklearn.model_selection import train_test_split"
      ],
      "execution_count": 0,
      "outputs": []
    },
    {
      "metadata": {
        "id": "c1GT_lavI2Sd",
        "colab_type": "text"
      },
      "cell_type": "markdown",
      "source": [
        "## Processing Training Data"
      ]
    },
    {
      "metadata": {
        "id": "UFuE1iOPI2Sh",
        "colab_type": "code",
        "colab": {}
      },
      "cell_type": "code",
      "source": [
        "images = os.listdir('train_images/')"
      ],
      "execution_count": 0,
      "outputs": []
    },
    {
      "metadata": {
        "id": "QG2NcfknI2St",
        "colab_type": "code",
        "colab": {}
      },
      "cell_type": "code",
      "source": [
        "### Images with label id\n",
        "train_data = json.load(open('fgvc4_iMat.train.data.json', 'r'))\n",
        "\n",
        "### Label map\n",
        "task_data = json.load(open('fgvc4_iMat.task_map.json', 'r'))"
      ],
      "execution_count": 0,
      "outputs": []
    },
    {
      "metadata": {
        "id": "yGHHuT6hI2S8",
        "colab_type": "code",
        "colab": {}
      },
      "cell_type": "code",
      "source": [
        "### Load images in numpy array\n",
        "X = np.load(\"numpy_dataset/X_train1500.npy\")\n",
        "\n",
        "### Load labels in numpy array\n",
        "y = list(np.load(\"numpy_dataset/y_train1500.npy\"))"
      ],
      "execution_count": 0,
      "outputs": []
    },
    {
      "metadata": {
        "id": "adasKGI7I2TF",
        "colab_type": "code",
        "colab": {}
      },
      "cell_type": "code",
      "source": [
        "### Map label\n",
        "labels = {\n",
        "    'shoe': 1,\n",
        "    'dress': 2,\n",
        "    'pants': 3,\n",
        "    'outerwear': 4\n",
        "}"
      ],
      "execution_count": 0,
      "outputs": []
    },
    {
      "metadata": {
        "scrolled": true,
        "id": "AGt7ahyOI2TP",
        "colab_type": "code",
        "colab": {},
        "outputId": "6336de6d-f187-42d5-f750-644c7664f559"
      },
      "cell_type": "code",
      "source": [
        "count = 1501\n",
        "\n",
        "for i in range(2001, len(images)):\n",
        "    image = images[i]\n",
        "    img_path = os.path.join('train_images', image)\n",
        "    try:\n",
        "        img = cv2.imread(img_path, 1)\n",
        "        img = cv2.resize(img, (300,300))\n",
        "        img = img.reshape(1, 300, 300, 3)\n",
        "\n",
        "        img_index = image.split('.')[0]\n",
        "        for dic in train_data['annotations']:\n",
        "            if dic['imageId'] == img_index:\n",
        "                task = int(dic['taskId'])\n",
        "                break\n",
        "        task_label = task_data['taskInfo'][task - 1]['taskName']\n",
        "        label = task_label.split(':')[0]\n",
        "        label_num = labels[label]\n",
        "        X = np.vstack((X, img))\n",
        "        y.append(label_num)\n",
        "        \n",
        "    except:\n",
        "        print(\"Problem reading image\")\n",
        "        \n",
        "    if count % 100 == 0:\n",
        "        print(\"Current percent: \" + str(100.0 * count / len(images)))\n",
        "        np.save(\"numpy_dataset/X_train\" + str(count) + '.npy', X)\n",
        "        np.save(\"numpy_dataset/y_train\" + str(count) + '.npy', np.array(y))\n",
        "        print(\"Arrays saved\")\n",
        "        \n",
        "    count += 1\n",
        "    \n",
        "y = np.array(y)"
      ],
      "execution_count": 0,
      "outputs": [
        {
          "output_type": "stream",
          "text": [
            "Problem reading image\n",
            "Problem reading image\n",
            "Current percent: 39.5256916996\n",
            "Arrays saved\n",
            "Problem reading image\n",
            "Problem reading image\n",
            "Problem reading image\n",
            "Problem reading image\n",
            "Problem reading image\n",
            "Problem reading image\n",
            "Problem reading image\n",
            "Problem reading image\n",
            "Problem reading image\n",
            "Problem reading image\n",
            "Problem reading image\n",
            "Problem reading image\n",
            "Problem reading image\n",
            "Current percent: 41.4078674948\n",
            "Arrays saved\n",
            "Problem reading image\n",
            "Problem reading image\n",
            "Problem reading image\n",
            "Problem reading image\n",
            "Problem reading image\n",
            "Problem reading image\n",
            "Problem reading image\n",
            "Current percent: 43.29004329\n",
            "Arrays saved\n",
            "Problem reading image\n",
            "Problem reading image\n",
            "Problem reading image\n",
            "Problem reading image\n",
            "Problem reading image\n",
            "Problem reading image\n",
            "Problem reading image\n",
            "Problem reading image\n",
            "Problem reading image\n",
            "Problem reading image\n",
            "Current percent: 45.1722190853\n",
            "Arrays saved\n",
            "Problem reading image\n",
            "Problem reading image\n",
            "Problem reading image\n",
            "Problem reading image\n",
            "Problem reading image\n",
            "Problem reading image\n",
            "Problem reading image\n",
            "Current percent: 47.0543948805\n",
            "Arrays saved\n",
            "Problem reading image\n",
            "Problem reading image\n",
            "Problem reading image\n",
            "Problem reading image\n",
            "Current percent: 48.9365706757\n",
            "Arrays saved\n",
            "Problem reading image\n",
            "Current percent: 50.8187464709\n",
            "Arrays saved\n",
            "Problem reading image\n",
            "Problem reading image\n",
            "Problem reading image\n",
            "Problem reading image\n",
            "Problem reading image\n",
            "Problem reading image\n",
            "Problem reading image\n",
            "Problem reading image\n",
            "Problem reading image\n",
            "Problem reading image\n",
            "Problem reading image\n",
            "Current percent: 52.7009222661\n",
            "Arrays saved\n",
            "Problem reading image\n",
            "Problem reading image\n",
            "Problem reading image\n",
            "Problem reading image\n",
            "Problem reading image\n",
            "Problem reading image\n",
            "Problem reading image\n",
            "Problem reading image\n",
            "Problem reading image\n",
            "Problem reading image\n",
            "Current percent: 54.5830980614\n",
            "Arrays saved\n",
            "Problem reading image\n",
            "Problem reading image\n",
            "Problem reading image\n",
            "Problem reading image\n",
            "Problem reading image\n",
            "Problem reading image\n",
            "Problem reading image\n",
            "Problem reading image\n",
            "Current percent: 56.4652738566\n",
            "Arrays saved\n",
            "Problem reading image\n",
            "Problem reading image\n",
            "Problem reading image\n",
            "Problem reading image\n",
            "Problem reading image\n",
            "Problem reading image\n",
            "Problem reading image\n",
            "Problem reading image\n",
            "Problem reading image\n",
            "Problem reading image\n",
            "Problem reading image\n",
            "Current percent: 58.3474496518\n",
            "Arrays saved\n",
            "Problem reading image\n",
            "Problem reading image\n",
            "Problem reading image\n",
            "Problem reading image\n",
            "Current percent: 60.229625447\n",
            "Arrays saved\n",
            "Current percent: 62.1118012422\n",
            "Arrays saved\n",
            "Problem reading image\n",
            "Problem reading image\n",
            "Problem reading image\n",
            "Problem reading image\n",
            "Problem reading image\n",
            "Problem reading image\n",
            "Problem reading image\n",
            "Problem reading image\n",
            "Problem reading image\n",
            "Problem reading image\n",
            "Problem reading image\n",
            "Problem reading image\n",
            "Current percent: 63.9939770375\n"
          ],
          "name": "stdout"
        },
        {
          "output_type": "error",
          "ename": "IOError",
          "evalue": "880200000 requested and 251306992 written",
          "traceback": [
            "\u001b[0;31m---------------------------------------------------------------------------\u001b[0m",
            "\u001b[0;31mIOError\u001b[0m                                   Traceback (most recent call last)",
            "\u001b[0;32m<ipython-input-17-08f0369b72f7>\u001b[0m in \u001b[0;36m<module>\u001b[0;34m()\u001b[0m\n\u001b[1;32m     25\u001b[0m     \u001b[0;32mif\u001b[0m \u001b[0mcount\u001b[0m \u001b[0;34m%\u001b[0m \u001b[0;36m100\u001b[0m \u001b[0;34m==\u001b[0m \u001b[0;36m0\u001b[0m\u001b[0;34m:\u001b[0m\u001b[0;34m\u001b[0m\u001b[0m\n\u001b[1;32m     26\u001b[0m         \u001b[0;32mprint\u001b[0m\u001b[0;34m(\u001b[0m\u001b[0;34m\"Current percent: \"\u001b[0m \u001b[0;34m+\u001b[0m \u001b[0mstr\u001b[0m\u001b[0;34m(\u001b[0m\u001b[0;36m100.0\u001b[0m \u001b[0;34m*\u001b[0m \u001b[0mcount\u001b[0m \u001b[0;34m/\u001b[0m \u001b[0mlen\u001b[0m\u001b[0;34m(\u001b[0m\u001b[0mimages\u001b[0m\u001b[0;34m)\u001b[0m\u001b[0;34m)\u001b[0m\u001b[0;34m)\u001b[0m\u001b[0;34m\u001b[0m\u001b[0m\n\u001b[0;32m---> 27\u001b[0;31m         \u001b[0mnp\u001b[0m\u001b[0;34m.\u001b[0m\u001b[0msave\u001b[0m\u001b[0;34m(\u001b[0m\u001b[0;34m\"numpy_dataset/X_train\"\u001b[0m \u001b[0;34m+\u001b[0m \u001b[0mstr\u001b[0m\u001b[0;34m(\u001b[0m\u001b[0mcount\u001b[0m\u001b[0;34m)\u001b[0m \u001b[0;34m+\u001b[0m \u001b[0;34m'.npy'\u001b[0m\u001b[0;34m,\u001b[0m \u001b[0mX\u001b[0m\u001b[0;34m)\u001b[0m\u001b[0;34m\u001b[0m\u001b[0m\n\u001b[0m\u001b[1;32m     28\u001b[0m         \u001b[0mnp\u001b[0m\u001b[0;34m.\u001b[0m\u001b[0msave\u001b[0m\u001b[0;34m(\u001b[0m\u001b[0;34m\"numpy_dataset/y_train\"\u001b[0m \u001b[0;34m+\u001b[0m \u001b[0mstr\u001b[0m\u001b[0;34m(\u001b[0m\u001b[0mcount\u001b[0m\u001b[0;34m)\u001b[0m \u001b[0;34m+\u001b[0m \u001b[0;34m'.npy'\u001b[0m\u001b[0;34m,\u001b[0m \u001b[0mnp\u001b[0m\u001b[0;34m.\u001b[0m\u001b[0marray\u001b[0m\u001b[0;34m(\u001b[0m\u001b[0my\u001b[0m\u001b[0;34m)\u001b[0m\u001b[0;34m)\u001b[0m\u001b[0;34m\u001b[0m\u001b[0m\n\u001b[1;32m     29\u001b[0m         \u001b[0;32mprint\u001b[0m\u001b[0;34m(\u001b[0m\u001b[0;34m\"Arrays saved\"\u001b[0m\u001b[0;34m)\u001b[0m\u001b[0;34m\u001b[0m\u001b[0m\n",
            "\u001b[0;32m/home/ofnanezn/ocr-venv/local/lib/python2.7/site-packages/numpy/lib/npyio.pyc\u001b[0m in \u001b[0;36msave\u001b[0;34m(file, arr, allow_pickle, fix_imports)\u001b[0m\n\u001b[1;32m    519\u001b[0m         \u001b[0marr\u001b[0m \u001b[0;34m=\u001b[0m \u001b[0mnp\u001b[0m\u001b[0;34m.\u001b[0m\u001b[0masanyarray\u001b[0m\u001b[0;34m(\u001b[0m\u001b[0marr\u001b[0m\u001b[0;34m)\u001b[0m\u001b[0;34m\u001b[0m\u001b[0m\n\u001b[1;32m    520\u001b[0m         format.write_array(fid, arr, allow_pickle=allow_pickle,\n\u001b[0;32m--> 521\u001b[0;31m                            pickle_kwargs=pickle_kwargs)\n\u001b[0m\u001b[1;32m    522\u001b[0m     \u001b[0;32mfinally\u001b[0m\u001b[0;34m:\u001b[0m\u001b[0;34m\u001b[0m\u001b[0m\n\u001b[1;32m    523\u001b[0m         \u001b[0;32mif\u001b[0m \u001b[0mown_fid\u001b[0m\u001b[0;34m:\u001b[0m\u001b[0;34m\u001b[0m\u001b[0m\n",
            "\u001b[0;32m/home/ofnanezn/ocr-venv/local/lib/python2.7/site-packages/numpy/lib/format.pyc\u001b[0m in \u001b[0;36mwrite_array\u001b[0;34m(fp, array, version, allow_pickle, pickle_kwargs)\u001b[0m\n\u001b[1;32m    602\u001b[0m     \u001b[0;32melse\u001b[0m\u001b[0;34m:\u001b[0m\u001b[0;34m\u001b[0m\u001b[0m\n\u001b[1;32m    603\u001b[0m         \u001b[0;32mif\u001b[0m \u001b[0misfileobj\u001b[0m\u001b[0;34m(\u001b[0m\u001b[0mfp\u001b[0m\u001b[0;34m)\u001b[0m\u001b[0;34m:\u001b[0m\u001b[0;34m\u001b[0m\u001b[0m\n\u001b[0;32m--> 604\u001b[0;31m             \u001b[0marray\u001b[0m\u001b[0;34m.\u001b[0m\u001b[0mtofile\u001b[0m\u001b[0;34m(\u001b[0m\u001b[0mfp\u001b[0m\u001b[0;34m)\u001b[0m\u001b[0;34m\u001b[0m\u001b[0m\n\u001b[0m\u001b[1;32m    605\u001b[0m         \u001b[0;32melse\u001b[0m\u001b[0;34m:\u001b[0m\u001b[0;34m\u001b[0m\u001b[0m\n\u001b[1;32m    606\u001b[0m             for chunk in numpy.nditer(\n",
            "\u001b[0;31mIOError\u001b[0m: 880200000 requested and 251306992 written"
          ]
        }
      ]
    },
    {
      "metadata": {
        "id": "FNLaKTXXI2Te",
        "colab_type": "text"
      },
      "cell_type": "markdown",
      "source": [
        "Check Array sizes"
      ]
    },
    {
      "metadata": {
        "id": "ZciCjsgpI2Tk",
        "colab_type": "code",
        "colab": {},
        "outputId": "8e5103b4-9205-4ad9-e30e-c375e58d0b0b"
      },
      "cell_type": "code",
      "source": [
        "print(X.shape)\n",
        "print(y.shape)"
      ],
      "execution_count": 0,
      "outputs": [
        {
          "output_type": "stream",
          "text": [
            "(3260, 300, 300, 3)\n",
            "(3260,)\n"
          ],
          "name": "stdout"
        }
      ]
    },
    {
      "metadata": {
        "id": "riytGl_3I2Ts",
        "colab_type": "text"
      },
      "cell_type": "markdown",
      "source": [
        "Partitioning Dataset"
      ]
    },
    {
      "metadata": {
        "id": "__Cds0scI2T2",
        "colab_type": "code",
        "colab": {}
      },
      "cell_type": "code",
      "source": [
        "X_notest, X_test, y_notest, y_test = train_test_split(X, y,\n",
        "                                                    test_size=0.1, \n",
        "                                                    random_state=1234,\n",
        "                                                    stratify=y)"
      ],
      "execution_count": 0,
      "outputs": []
    },
    {
      "metadata": {
        "id": "f2i95e6mI2UG",
        "colab_type": "code",
        "colab": {}
      },
      "cell_type": "code",
      "source": [
        "X_train, X_val, y_train, y_val = train_test_split(X_notest, y_notest,\n",
        "                                                    test_size=0.1, \n",
        "                                                    random_state=1234,\n",
        "                                                    stratify=y_notest)"
      ],
      "execution_count": 0,
      "outputs": []
    },
    {
      "metadata": {
        "id": "DnQ4Vck6I2UO",
        "colab_type": "text"
      },
      "cell_type": "markdown",
      "source": [
        "Printing Classes Distribution for training, test and validation"
      ]
    },
    {
      "metadata": {
        "id": "a9Subwl3I2UQ",
        "colab_type": "code",
        "colab": {},
        "outputId": "059cf6d9-8fa3-4db9-e3ac-dcfe1dbc81b3"
      },
      "cell_type": "code",
      "source": [
        "unique = np.unique(y_train, return_counts=True)\n",
        "print(unique)"
      ],
      "execution_count": 0,
      "outputs": [
        {
          "output_type": "stream",
          "text": [
            "(array([1, 2, 3, 4]), array([628, 959, 314, 739]))\n"
          ],
          "name": "stdout"
        }
      ]
    },
    {
      "metadata": {
        "id": "tCd_yxjUI2Uc",
        "colab_type": "code",
        "colab": {},
        "outputId": "f371cd73-848b-405a-8b8e-a4e9b8b7d8f2"
      },
      "cell_type": "code",
      "source": [
        "unique = np.unique(y_test, return_counts=True)\n",
        "print(unique)"
      ],
      "execution_count": 0,
      "outputs": [
        {
          "output_type": "stream",
          "text": [
            "(array([1, 2, 3, 4]), array([ 78, 118,  39,  91]))\n"
          ],
          "name": "stdout"
        }
      ]
    },
    {
      "metadata": {
        "id": "mtbv8g_II2Uo",
        "colab_type": "code",
        "colab": {},
        "outputId": "4afa5932-9951-427f-e2d1-adda7a5fdc8e"
      },
      "cell_type": "code",
      "source": [
        "unique = np.unique(y_val, return_counts=True)\n",
        "print(unique)"
      ],
      "execution_count": 0,
      "outputs": [
        {
          "output_type": "stream",
          "text": [
            "(array([1, 2, 3, 4]), array([ 70, 107,  35,  82]))\n"
          ],
          "name": "stdout"
        }
      ]
    },
    {
      "metadata": {
        "id": "2rnFVBXBI2Uu",
        "colab_type": "text"
      },
      "cell_type": "markdown",
      "source": [
        "One hot Encoding labels:"
      ]
    },
    {
      "metadata": {
        "id": "P7ntT0uCI2Ux",
        "colab_type": "code",
        "colab": {},
        "outputId": "0441c3ae-ffb3-4466-e51f-180d5f9bff7b"
      },
      "cell_type": "code",
      "source": [
        "onehot_encoder = OneHotEncoder(sparse=False)\n",
        "y_train_encoded = onehot_encoder.fit_transform(y_train.reshape(-1, 1))\n",
        "y_test_encoded = onehot_encoder.fit_transform(y_test.reshape(-1, 1))\n",
        "y_val_encoded = onehot_encoder.fit_transform(y_val.reshape(-1, 1))"
      ],
      "execution_count": 0,
      "outputs": [
        {
          "output_type": "stream",
          "text": [
            "/home/ofnanezn/ocr-venv/local/lib/python2.7/site-packages/sklearn/preprocessing/_encoders.py:363: FutureWarning: The handling of integer data will change in version 0.22. Currently, the categories are determined based on the range [0, max(values)], while in the future they will be determined based on the unique values.\n",
            "If you want the future behaviour and silence this warning, you can specify \"categories='auto'\".\n",
            "In case you used a LabelEncoder before this OneHotEncoder to convert the categories to integers, then you can now use the OneHotEncoder directly.\n",
            "  warnings.warn(msg, FutureWarning)\n"
          ],
          "name": "stderr"
        }
      ]
    },
    {
      "metadata": {
        "id": "V1-s3SebI2U7",
        "colab_type": "text"
      },
      "cell_type": "markdown",
      "source": [
        "Checking training arrays sizes"
      ]
    },
    {
      "metadata": {
        "id": "wOaFHrpOI2U9",
        "colab_type": "code",
        "colab": {},
        "outputId": "38ab9e08-d910-45d0-9343-95b7531788f2"
      },
      "cell_type": "code",
      "source": [
        "print(X_train.shape)\n",
        "print(y_train_encoded.shape)"
      ],
      "execution_count": 0,
      "outputs": [
        {
          "output_type": "stream",
          "text": [
            "(2640, 300, 300, 3)\n",
            "(2640, 4)\n"
          ],
          "name": "stdout"
        }
      ]
    },
    {
      "metadata": {
        "id": "DHfkfm3ZI2VM",
        "colab_type": "text"
      },
      "cell_type": "markdown",
      "source": [
        "## Creating the model"
      ]
    },
    {
      "metadata": {
        "id": "rHMCFxthI2VP",
        "colab_type": "text"
      },
      "cell_type": "markdown",
      "source": [
        "In this case, we will use DenseNet 121 Architecture"
      ]
    },
    {
      "metadata": {
        "id": "OlGaZUYDI2VT",
        "colab_type": "code",
        "colab": {}
      },
      "cell_type": "code",
      "source": [
        "from keras.applications.densenet import DenseNet121\n",
        "from keras import optimizers\n",
        "from keras.callbacks import ModelCheckpoint\n",
        "import matplotlib.pyplot as plt"
      ],
      "execution_count": 0,
      "outputs": []
    },
    {
      "metadata": {
        "id": "bhPXlfyfI2Vi",
        "colab_type": "text"
      },
      "cell_type": "markdown",
      "source": [
        "Instantiating the model"
      ]
    },
    {
      "metadata": {
        "id": "wqpVYV-CI2Vk",
        "colab_type": "code",
        "colab": {}
      },
      "cell_type": "code",
      "source": [
        "model = DenseNet121(weights=None, input_shape=(300,300,3), pooling='max', classes=4)"
      ],
      "execution_count": 0,
      "outputs": []
    },
    {
      "metadata": {
        "id": "xUHsY2TiOwQl",
        "colab_type": "code",
        "colab": {}
      },
      "cell_type": "code",
      "source": [
        ""
      ],
      "execution_count": 0,
      "outputs": []
    },
    {
      "metadata": {
        "id": "yAPYeuJOI2Vu",
        "colab_type": "text"
      },
      "cell_type": "markdown",
      "source": [
        "Compiling the model"
      ]
    },
    {
      "metadata": {
        "id": "3FHmG-SXI2Vv",
        "colab_type": "code",
        "colab": {}
      },
      "cell_type": "code",
      "source": [
        "rms_prop = optimizers.RMSprop()\n",
        "\n",
        "model.compile(optimizer=rms_prop, loss='categorical_crossentropy',\n",
        "             metrics=['accuracy'])"
      ],
      "execution_count": 0,
      "outputs": []
    },
    {
      "metadata": {
        "id": "My_wbNPpI2V6",
        "colab_type": "text"
      },
      "cell_type": "markdown",
      "source": [
        "Training the model"
      ]
    },
    {
      "metadata": {
        "scrolled": true,
        "id": "uBl9v3dEI2V8",
        "colab_type": "code",
        "colab": {},
        "outputId": "1cae9d9e-2ce3-4d2e-ed52-c330de6d2028"
      },
      "cell_type": "code",
      "source": [
        "#checkpointer = ModelCheckpoint(filepath='Checkpoint/weights.hdf5', verbose=1, save_best_only=True)\n",
        "\n",
        "history = model.fit(x=X_train, y=y_train_encoded, validation_data=(X_val, y_val_encoded),\n",
        "                    batch_size=16, epochs=50) #, callbacks=[checkpointer])"
      ],
      "execution_count": 0,
      "outputs": [
        {
          "output_type": "stream",
          "text": [
            "Train on 2640 samples, validate on 294 samples\n",
            "Epoch 1/50\n",
            "2640/2640 [==============================] - 75s 29ms/step - loss: 1.3783 - acc: 0.3932 - val_loss: 6.6122 - val_acc: 0.2619\n",
            "Epoch 2/50\n",
            "2640/2640 [==============================] - 49s 19ms/step - loss: 1.1902 - acc: 0.4871 - val_loss: 1.3251 - val_acc: 0.4490\n",
            "Epoch 3/50\n",
            "2640/2640 [==============================] - 49s 19ms/step - loss: 1.0891 - acc: 0.5568 - val_loss: 1.2200 - val_acc: 0.5136\n",
            "Epoch 4/50\n",
            "2640/2640 [==============================] - 49s 19ms/step - loss: 1.0311 - acc: 0.5746 - val_loss: 1.1405 - val_acc: 0.5034\n",
            "Epoch 5/50\n",
            "2640/2640 [==============================] - 49s 19ms/step - loss: 0.9527 - acc: 0.6152 - val_loss: 2.3207 - val_acc: 0.3197\n",
            "Epoch 6/50\n",
            "2640/2640 [==============================] - 49s 19ms/step - loss: 0.8994 - acc: 0.6360 - val_loss: 1.5114 - val_acc: 0.4184\n",
            "Epoch 7/50\n",
            "2640/2640 [==============================] - 49s 19ms/step - loss: 0.8564 - acc: 0.6568 - val_loss: 0.8662 - val_acc: 0.6429\n",
            "Epoch 8/50\n",
            "2640/2640 [==============================] - 49s 19ms/step - loss: 0.8325 - acc: 0.6674 - val_loss: 1.0108 - val_acc: 0.6259\n",
            "Epoch 9/50\n",
            "2640/2640 [==============================] - 49s 19ms/step - loss: 0.7781 - acc: 0.6970 - val_loss: 2.1210 - val_acc: 0.4048\n",
            "Epoch 10/50\n",
            "2640/2640 [==============================] - 49s 19ms/step - loss: 0.7290 - acc: 0.7076 - val_loss: 0.7786 - val_acc: 0.6939\n",
            "Epoch 11/50\n",
            "2640/2640 [==============================] - 49s 19ms/step - loss: 0.7024 - acc: 0.7201 - val_loss: 0.9501 - val_acc: 0.6190\n",
            "Epoch 12/50\n",
            "2640/2640 [==============================] - 49s 19ms/step - loss: 0.6548 - acc: 0.7424 - val_loss: 0.7729 - val_acc: 0.6803\n",
            "Epoch 13/50\n",
            "2640/2640 [==============================] - 49s 19ms/step - loss: 0.6102 - acc: 0.7689 - val_loss: 0.9218 - val_acc: 0.6497\n",
            "Epoch 14/50\n",
            "2640/2640 [==============================] - 49s 19ms/step - loss: 0.5894 - acc: 0.7670 - val_loss: 0.9236 - val_acc: 0.6429\n",
            "Epoch 15/50\n",
            "2640/2640 [==============================] - 49s 19ms/step - loss: 0.5509 - acc: 0.7879 - val_loss: 0.9449 - val_acc: 0.6905\n",
            "Epoch 16/50\n",
            "2640/2640 [==============================] - 50s 19ms/step - loss: 0.5297 - acc: 0.7958 - val_loss: 1.5954 - val_acc: 0.6224\n",
            "Epoch 17/50\n",
            "2640/2640 [==============================] - 49s 19ms/step - loss: 0.4880 - acc: 0.8189 - val_loss: 0.8337 - val_acc: 0.6905\n",
            "Epoch 18/50\n",
            "2640/2640 [==============================] - 49s 19ms/step - loss: 0.4566 - acc: 0.8299 - val_loss: 1.4391 - val_acc: 0.5714\n",
            "Epoch 19/50\n",
            "2640/2640 [==============================] - 49s 19ms/step - loss: 0.4251 - acc: 0.8436 - val_loss: 1.0947 - val_acc: 0.6871\n",
            "Epoch 20/50\n",
            "2640/2640 [==============================] - 49s 19ms/step - loss: 0.3864 - acc: 0.8500 - val_loss: 0.7052 - val_acc: 0.7381\n",
            "Epoch 21/50\n",
            "2640/2640 [==============================] - 49s 19ms/step - loss: 0.3618 - acc: 0.8659 - val_loss: 0.7219 - val_acc: 0.7551\n",
            "Epoch 22/50\n",
            "2640/2640 [==============================] - 49s 19ms/step - loss: 0.3615 - acc: 0.8701 - val_loss: 0.7767 - val_acc: 0.7483\n",
            "Epoch 23/50\n",
            "2640/2640 [==============================] - 49s 19ms/step - loss: 0.2994 - acc: 0.8939 - val_loss: 1.1092 - val_acc: 0.6837\n",
            "Epoch 24/50\n",
            "2640/2640 [==============================] - 50s 19ms/step - loss: 0.2694 - acc: 0.9030 - val_loss: 0.8707 - val_acc: 0.7381\n",
            "Epoch 25/50\n",
            "2640/2640 [==============================] - 49s 19ms/step - loss: 0.2635 - acc: 0.9023 - val_loss: 1.1787 - val_acc: 0.6837\n",
            "Epoch 26/50\n",
            "2640/2640 [==============================] - 49s 19ms/step - loss: 0.2466 - acc: 0.9136 - val_loss: 0.9218 - val_acc: 0.7483\n",
            "Epoch 27/50\n",
            "2640/2640 [==============================] - 49s 19ms/step - loss: 0.2028 - acc: 0.9303 - val_loss: 1.3470 - val_acc: 0.6327\n",
            "Epoch 28/50\n",
            "2640/2640 [==============================] - 49s 19ms/step - loss: 0.2069 - acc: 0.9223 - val_loss: 1.4495 - val_acc: 0.6701\n",
            "Epoch 29/50\n",
            "2640/2640 [==============================] - 49s 19ms/step - loss: 0.1813 - acc: 0.9337 - val_loss: 0.9740 - val_acc: 0.7109\n",
            "Epoch 30/50\n",
            "2640/2640 [==============================] - 50s 19ms/step - loss: 0.1752 - acc: 0.9330 - val_loss: 1.7215 - val_acc: 0.6837\n",
            "Epoch 31/50\n",
            "2640/2640 [==============================] - 49s 19ms/step - loss: 0.1593 - acc: 0.9443 - val_loss: 0.9525 - val_acc: 0.7619\n",
            "Epoch 32/50\n",
            "2640/2640 [==============================] - 50s 19ms/step - loss: 0.1597 - acc: 0.9451 - val_loss: 1.2032 - val_acc: 0.7177\n",
            "Epoch 33/50\n",
            "2640/2640 [==============================] - 49s 19ms/step - loss: 0.1496 - acc: 0.9458 - val_loss: 1.0187 - val_acc: 0.7347\n",
            "Epoch 34/50\n",
            "2640/2640 [==============================] - 50s 19ms/step - loss: 0.1687 - acc: 0.9352 - val_loss: 1.4682 - val_acc: 0.6939\n",
            "Epoch 35/50\n",
            "2640/2640 [==============================] - 49s 19ms/step - loss: 0.1262 - acc: 0.9553 - val_loss: 1.4342 - val_acc: 0.7143\n",
            "Epoch 36/50\n",
            "2640/2640 [==============================] - 50s 19ms/step - loss: 0.1182 - acc: 0.9629 - val_loss: 1.6363 - val_acc: 0.6463\n",
            "Epoch 37/50\n",
            "2640/2640 [==============================] - 49s 19ms/step - loss: 0.1335 - acc: 0.9523 - val_loss: 1.2436 - val_acc: 0.7041\n",
            "Epoch 38/50\n",
            "2640/2640 [==============================] - 49s 19ms/step - loss: 0.1089 - acc: 0.9621 - val_loss: 1.6695 - val_acc: 0.7177\n",
            "Epoch 39/50\n",
            "2640/2640 [==============================] - 49s 19ms/step - loss: 0.1216 - acc: 0.9549 - val_loss: 0.9029 - val_acc: 0.7687\n",
            "Epoch 40/50\n",
            "2640/2640 [==============================] - 49s 19ms/step - loss: 0.1203 - acc: 0.9606 - val_loss: 1.3679 - val_acc: 0.6939\n",
            "Epoch 41/50\n",
            "2640/2640 [==============================] - 50s 19ms/step - loss: 0.1210 - acc: 0.9602 - val_loss: 1.6019 - val_acc: 0.6905\n",
            "Epoch 42/50\n",
            "2640/2640 [==============================] - 49s 19ms/step - loss: 0.0967 - acc: 0.9644 - val_loss: 1.6096 - val_acc: 0.6667\n",
            "Epoch 43/50\n",
            "2640/2640 [==============================] - 49s 19ms/step - loss: 0.0978 - acc: 0.9636 - val_loss: 2.5493 - val_acc: 0.6020\n",
            "Epoch 44/50\n",
            "2640/2640 [==============================] - 50s 19ms/step - loss: 0.1005 - acc: 0.9652 - val_loss: 1.1251 - val_acc: 0.7381\n",
            "Epoch 45/50\n",
            "2640/2640 [==============================] - 50s 19ms/step - loss: 0.0822 - acc: 0.9689 - val_loss: 1.1171 - val_acc: 0.7245\n",
            "Epoch 46/50\n",
            "2640/2640 [==============================] - 50s 19ms/step - loss: 0.1088 - acc: 0.9644 - val_loss: 1.1806 - val_acc: 0.7619\n",
            "Epoch 47/50\n",
            "2640/2640 [==============================] - 50s 19ms/step - loss: 0.0931 - acc: 0.9652 - val_loss: 1.4548 - val_acc: 0.6939\n",
            "Epoch 48/50\n",
            "2640/2640 [==============================] - 49s 19ms/step - loss: 0.0850 - acc: 0.9708 - val_loss: 1.3334 - val_acc: 0.7041\n",
            "Epoch 49/50\n",
            "2640/2640 [==============================] - 50s 19ms/step - loss: 0.0867 - acc: 0.9689 - val_loss: 1.4777 - val_acc: 0.6769\n",
            "Epoch 50/50\n",
            "2640/2640 [==============================] - 50s 19ms/step - loss: 0.0784 - acc: 0.9705 - val_loss: 1.0873 - val_acc: 0.7415\n"
          ],
          "name": "stdout"
        }
      ]
    },
    {
      "metadata": {
        "id": "weAVj2BvI2WG",
        "colab_type": "code",
        "colab": {},
        "outputId": "907b12e7-649b-43ff-fcc8-e5cbddfef84d"
      },
      "cell_type": "code",
      "source": [
        "plt.plot(history.history['loss'], label=\"Train Loss\")\n",
        "plt.plot(history.history['val_loss'], label=\"Validation Loss\")\n",
        "plt.legend()\n",
        "plt.xlabel('Epoch')\n",
        "plt.ylabel('Loss')"
      ],
      "execution_count": 0,
      "outputs": [
        {
          "output_type": "execute_result",
          "data": {
            "text/plain": [
              "Text(0,0.5,'Loss')"
            ]
          },
          "metadata": {
            "tags": []
          },
          "execution_count": 37
        },
        {
          "output_type": "display_data",
          "data": {
            "image/png": "[encoded data removed]",
            "text/plain": [
              "<Figure size 432x288 with 1 Axes>"
            ]
          },
          "metadata": {
            "tags": [],
            "needs_background": "light"
          }
        }
      ]
    },
    {
      "metadata": {
        "id": "pROwdoHtI2WP",
        "colab_type": "code",
        "colab": {}
      },
      "cell_type": "code",
      "source": [
        "model.save(\"my_model2.h5\")"
      ],
      "execution_count": 0,
      "outputs": []
    },
    {
      "metadata": {
        "id": "zpbUqa9YI2WX",
        "colab_type": "code",
        "colab": {}
      },
      "cell_type": "code",
      "source": [
        ""
      ],
      "execution_count": 0,
      "outputs": []
    }
  ]
}